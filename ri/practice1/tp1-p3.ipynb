{
    "cells": [
        {
            "cell_type": "code",
            "execution_count": 5,
            "source": [
                "import re\r\n",
                "from typing import Tuple"
            ],
            "outputs": [],
            "metadata": {}
        },
        {
            "cell_type": "code",
            "execution_count": 6,
            "source": [
                "doc_read_pattern = re.compile(\"<doc><docno>([^<]*)</docno>([^<]*)</doc>\")\r\n",
                "\r\n",
                "\r\n",
                "def read_doc(text: str) -> Tuple[str, str]:\r\n",
                "    matcher = doc_read_pattern.search(text)\r\n",
                "    if matcher == None:\r\n",
                "        return None, None\r\n",
                "    return matcher.group(1), matcher.group(2)\r\n"
            ],
            "outputs": [],
            "metadata": {}
        },
        {
            "cell_type": "code",
            "execution_count": 7,
            "source": [
                "with open(\"doc.txt\", \"r\") as f:\r\n",
                "    lines = f.readlines()\r\n"
            ],
            "outputs": [],
            "metadata": {}
        },
        {
            "cell_type": "code",
            "execution_count": 27,
            "source": [
                "class IndexObject:\r\n",
                "    def __init__(self) -> None:\r\n",
                "        self.df = 0\r\n",
                "        self.tf = dict()"
            ],
            "outputs": [],
            "metadata": {}
        },
        {
            "cell_type": "code",
            "execution_count": 28,
            "source": [
                "index = dict()\r\n",
                "\r\n",
                "# Building index\r\n",
                "\r\n",
                "for i in range(len(lines)):\r\n",
                "    line = lines[i]\r\n",
                "    docno, doctext = read_doc(line)\r\n",
                "    if docno == None:\r\n",
                "        continue\r\n",
                "\r\n",
                "    words = re.findall('\\w+', doctext)\r\n",
                "    for w in words:\r\n",
                "        word = w.lower()\r\n",
                "\r\n",
                "        if word in index:\r\n",
                "            wl = index[word]\r\n",
                "        else:\r\n",
                "            wl = IndexObject()\r\n",
                "            index[word] = wl\r\n",
                "        \r\n",
                "        if docno not in wl.tf:\r\n",
                "            wl.df += 1\r\n",
                "            wl.tf[docno] = 1\r\n",
                "        else:\r\n",
                "            wl.tf[docno] += 1\r\n",
                "        \r\n"
            ],
            "outputs": [],
            "metadata": {}
        },
        {
            "cell_type": "code",
            "execution_count": null,
            "source": [],
            "outputs": [],
            "metadata": {}
        }
    ],
    "metadata": {
        "orig_nbformat": 4,
        "language_info": {
            "name": "python",
            "version": "3.9.0",
            "mimetype": "text/x-python",
            "codemirror_mode": {
                "name": "ipython",
                "version": 3
            },
            "pygments_lexer": "ipython3",
            "nbconvert_exporter": "python",
            "file_extension": ".py"
        },
        "kernelspec": {
            "name": "python3",
            "display_name": "Python 3.9.0 64-bit"
        },
        "interpreter": {
            "hash": "4342f0cf60e08e1df82e6dfa3ffda3d1a70c7033658a34260bc387a7b26e7ac1"
        }
    },
    "nbformat": 4,
    "nbformat_minor": 2
}