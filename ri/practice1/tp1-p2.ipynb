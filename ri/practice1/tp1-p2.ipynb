{
    "cells": [
        {
            "cell_type": "code",
            "execution_count": 5,
            "source": [
                "import re\r\n",
                "from typing import Tuple"
            ],
            "outputs": [],
            "metadata": {}
        },
        {
            "cell_type": "code",
            "execution_count": 6,
            "source": [
                "doc_read_pattern = re.compile(\"<doc><docno>([^<]*)</docno>([^<]*)</doc>\")\r\n",
                "\r\n",
                "\r\n",
                "def read_doc(text: str) -> Tuple[str, str]:\r\n",
                "    matcher = doc_read_pattern.search(text)\r\n",
                "    if matcher == None:\r\n",
                "        return None, None\r\n",
                "    return matcher.group(1), matcher.group(2)\r\n"
            ],
            "outputs": [],
            "metadata": {}
        },
        {
            "cell_type": "code",
            "execution_count": 7,
            "source": [
                "with open(\"doc.txt\", \"r\") as f:\r\n",
                "    lines = f.readlines()\r\n"
            ],
            "outputs": [],
            "metadata": {}
        },
        {
            "cell_type": "code",
            "execution_count": 27,
            "source": [
                "class IndexObject:\r\n",
                "    def __init__(self) -> None:\r\n",
                "        self.df = 0\r\n",
                "        self.tf = dict()"
            ],
            "outputs": [],
            "metadata": {}
        },
        {
            "cell_type": "code",
            "execution_count": 28,
            "source": [
                "index = dict()\r\n",
                "\r\n",
                "# Building index\r\n",
                "\r\n",
                "for i in range(len(lines)):\r\n",
                "    line = lines[i]\r\n",
                "    docno, doctext = read_doc(line)\r\n",
                "    if docno == None:\r\n",
                "        continue\r\n",
                "\r\n",
                "    words = re.findall('\\w+', doctext)\r\n",
                "    for w in words:\r\n",
                "        word = w.lower()\r\n",
                "\r\n",
                "        if word in index:\r\n",
                "            wl = index[word]\r\n",
                "        else:\r\n",
                "            wl = IndexObject()\r\n",
                "            index[word] = wl\r\n",
                "        \r\n",
                "        if docno not in wl.tf:\r\n",
                "            wl.df += 1\r\n",
                "            wl.tf[docno] = 1\r\n",
                "        else:\r\n",
                "            wl.tf[docno] += 1\r\n",
                "        \r\n"
            ],
            "outputs": [],
            "metadata": {}
        },
        {
            "cell_type": "code",
            "execution_count": 29,
            "source": [
                "for word in sorted(index):\r\n",
                "    io = index[word]\r\n",
                "    print(\"{0}=df({1})\".format(io.df, word))\r\n",
                "    for doc in sorted(io.tf):\r\n",
                "        print(\"\\t{0} {1}\".format(io.tf[doc], doc))\r\n"
            ],
            "outputs": [
                {
                    "output_type": "stream",
                    "name": "stdout",
                    "text": [
                        "1=df(arabia)\n",
                        "\t1 D4\n",
                        "1=df(casablanca)\n",
                        "\t1 D1\n",
                        "1=df(citezen)\n",
                        "\t1 D0\n",
                        "1=df(godfather)\n",
                        "\t2 D2\n",
                        "1=df(gone)\n",
                        "\t1 D3\n",
                        "1=df(graduate)\n",
                        "\t1 D6\n",
                        "1=df(in)\n",
                        "\t1 D9\n",
                        "1=df(kane)\n",
                        "\t1 D0\n",
                        "1=df(lawrence)\n",
                        "\t1 D4\n",
                        "1=df(list)\n",
                        "\t1 D8\n",
                        "2=df(of)\n",
                        "\t1 D4\n",
                        "\t2 D5\n",
                        "1=df(on)\n",
                        "\t1 D7\n",
                        "1=df(oz)\n",
                        "\t2 D5\n",
                        "1=df(rain)\n",
                        "\t1 D9\n",
                        "1=df(s)\n",
                        "\t1 D8\n",
                        "1=df(schindler)\n",
                        "\t1 D8\n",
                        "1=df(singin)\n",
                        "\t1 D9\n",
                        "6=df(the)\n",
                        "\t2 D2\n",
                        "\t1 D3\n",
                        "\t2 D5\n",
                        "\t1 D6\n",
                        "\t1 D7\n",
                        "\t1 D9\n",
                        "1=df(waterfront)\n",
                        "\t1 D7\n",
                        "1=df(wind)\n",
                        "\t1 D3\n",
                        "1=df(with)\n",
                        "\t1 D3\n",
                        "1=df(wizard)\n",
                        "\t2 D5\n"
                    ]
                }
            ],
            "metadata": {}
        },
        {
            "cell_type": "code",
            "execution_count": null,
            "source": [],
            "outputs": [],
            "metadata": {}
        }
    ],
    "metadata": {
        "orig_nbformat": 4,
        "language_info": {
            "name": "python",
            "version": "3.9.0",
            "mimetype": "text/x-python",
            "codemirror_mode": {
                "name": "ipython",
                "version": 3
            },
            "pygments_lexer": "ipython3",
            "nbconvert_exporter": "python",
            "file_extension": ".py"
        },
        "kernelspec": {
            "name": "python3",
            "display_name": "Python 3.9.0 64-bit"
        },
        "interpreter": {
            "hash": "4342f0cf60e08e1df82e6dfa3ffda3d1a70c7033658a34260bc387a7b26e7ac1"
        }
    },
    "nbformat": 4,
    "nbformat_minor": 2
}