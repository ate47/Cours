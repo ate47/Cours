{
    "cells": [
        {
            "cell_type": "code",
            "execution_count": 49,
            "source": [
                "import re\r\n",
                "from typing import Tuple, Generator"
            ],
            "outputs": [],
            "metadata": {}
        },
        {
            "cell_type": "code",
            "execution_count": 34,
            "source": [
                "doc_read_pattern = re.compile(\"<doc><docno>([^<]*)</docno>([^<]*)</doc>\")\r\n",
                "\r\n",
                "\r\n",
                "def read_doc(text: str) -> Tuple[str, str]:\r\n",
                "    matcher = doc_read_pattern.search(text)\r\n",
                "    if matcher == None:\r\n",
                "        return None, None\r\n",
                "    return matcher.group(1), matcher.group(2)\r\n"
            ],
            "outputs": [],
            "metadata": {}
        },
        {
            "cell_type": "code",
            "execution_count": 35,
            "source": [
                "with open(\"doc.txt\", \"r\") as f:\r\n",
                "    lines = f.readlines()\r\n"
            ],
            "outputs": [],
            "metadata": {}
        },
        {
            "cell_type": "code",
            "execution_count": 53,
            "source": [
                "\r\n",
                "class IndexObject:\r\n",
                "    def __init__(self, size: int) -> None:\r\n",
                "        self.df = 0\r\n",
                "        self.tf = [0 for _ in range(size)]\r\n",
                "\r\n",
                "class IndexStore:\r\n",
                "    def __init__(self, size: int) -> None:\r\n",
                "        self.corpus_ids = dict()\r\n",
                "        self.corpus_name_ids = []\r\n",
                "        self.objects = dict()\r\n",
                "        self.size = size\r\n",
                "\r\n",
                "    def locate_docid(self, docid: str) -> int:\r\n",
                "        oid = len(self.corpus_name_ids)\r\n",
                "        self.corpus_ids[docid] = oid\r\n",
                "        self.corpus_name_ids.append(docid)\r\n",
                "        return oid\r\n",
                "\r\n",
                "    def fetch_or_create_object(self, word: str) -> IndexObject:\r\n",
                "        if word in self.objects:\r\n",
                "            return self.objects[word]\r\n",
                "        wl = IndexObject(self.size)\r\n",
                "        self.objects[word] = wl\r\n",
                "        return wl\r\n",
                "    \r\n",
                "    def tf_doc_of_object(self, word: str) -> Generator[Tuple[int, str], None, None]:\r\n",
                "        if word not in self.objects:\r\n",
                "            return\r\n",
                "\r\n",
                "        tf = self.objects[word].tf\r\n",
                "\r\n",
                "        for i in range(len(tf)):\r\n",
                "            if tf[i] != 0:\r\n",
                "                yield tf[i], self.corpus_name_ids[i]\r\n",
                "        \r\n"
            ],
            "outputs": [],
            "metadata": {}
        },
        {
            "cell_type": "code",
            "execution_count": 54,
            "source": [
                "index = IndexStore(len(lines))\r\n",
                "\r\n",
                "# Building index\r\n",
                "\r\n",
                "for i in range(len(lines)):\r\n",
                "    line = lines[i]\r\n",
                "    docno, doctext = read_doc(line)\r\n",
                "    if docno == None:\r\n",
                "        continue\r\n",
                "    docno = index.locate_docid(docno)\r\n",
                "\r\n",
                "    words = re.findall('\\w+', doctext)\r\n",
                "    for w in words:\r\n",
                "        word = w.lower()\r\n",
                "\r\n",
                "        wl = index.fetch_or_create_object(word)\r\n",
                "        wl.df += 1\r\n",
                "        wl.tf[docno] = 1\r\n"
            ],
            "outputs": [],
            "metadata": {}
        },
        {
            "cell_type": "code",
            "execution_count": 56,
            "source": [
                "for word in sorted(index.objects):\r\n",
                "    io = index.objects[word]\r\n",
                "    print(\"{0}=df({1})\".format(io.df, word))\r\n",
                "    for tf, doc in index.tf_doc_of_object(word):\r\n",
                "        print(\"\\t{0} {1}\".format(tf, doc))\r\n"
            ],
            "outputs": [
                {
                    "output_type": "stream",
                    "name": "stdout",
                    "text": [
                        "1=df(arabia)\n",
                        "\t1 D4\n",
                        "1=df(casablanca)\n",
                        "\t1 D1\n",
                        "1=df(citezen)\n",
                        "\t1 D0\n",
                        "2=df(godfather)\n",
                        "\t1 D2\n",
                        "1=df(gone)\n",
                        "\t1 D3\n",
                        "1=df(graduate)\n",
                        "\t1 D6\n",
                        "1=df(in)\n",
                        "\t1 D9\n",
                        "1=df(kane)\n",
                        "\t1 D0\n",
                        "1=df(lawrence)\n",
                        "\t1 D4\n",
                        "1=df(list)\n",
                        "\t1 D8\n",
                        "3=df(of)\n",
                        "\t1 D4\n",
                        "\t1 D5\n",
                        "1=df(on)\n",
                        "\t1 D7\n",
                        "2=df(oz)\n",
                        "\t1 D5\n",
                        "1=df(rain)\n",
                        "\t1 D9\n",
                        "1=df(s)\n",
                        "\t1 D8\n",
                        "1=df(schindler)\n",
                        "\t1 D8\n",
                        "1=df(singin)\n",
                        "\t1 D9\n",
                        "8=df(the)\n",
                        "\t1 D2\n",
                        "\t1 D3\n",
                        "\t1 D5\n",
                        "\t1 D6\n",
                        "\t1 D7\n",
                        "\t1 D9\n",
                        "1=df(waterfront)\n",
                        "\t1 D7\n",
                        "1=df(wind)\n",
                        "\t1 D3\n",
                        "1=df(with)\n",
                        "\t1 D3\n",
                        "2=df(wizard)\n",
                        "\t1 D5\n"
                    ]
                }
            ],
            "metadata": {}
        },
        {
            "cell_type": "code",
            "execution_count": null,
            "source": [],
            "outputs": [],
            "metadata": {}
        }
    ],
    "metadata": {
        "orig_nbformat": 4,
        "language_info": {
            "name": "python",
            "version": "3.9.0",
            "mimetype": "text/x-python",
            "codemirror_mode": {
                "name": "ipython",
                "version": 3
            },
            "pygments_lexer": "ipython3",
            "nbconvert_exporter": "python",
            "file_extension": ".py"
        },
        "kernelspec": {
            "name": "python3",
            "display_name": "Python 3.9.0 64-bit"
        },
        "interpreter": {
            "hash": "4342f0cf60e08e1df82e6dfa3ffda3d1a70c7033658a34260bc387a7b26e7ac1"
        }
    },
    "nbformat": 4,
    "nbformat_minor": 2
}