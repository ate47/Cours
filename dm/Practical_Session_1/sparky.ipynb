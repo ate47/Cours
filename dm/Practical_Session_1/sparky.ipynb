{
 "cells": [
  {
   "cell_type": "code",
   "execution_count": 1,
   "metadata": {},
   "outputs": [],
   "source": [
    "import pyspark\n",
    "conf = pyspark.SparkConf().setAppName('appName').setMaster('local')\n",
    "sc = pyspark.SparkContext(conf=conf)"
   ]
  },
  {
   "cell_type": "code",
   "execution_count": 2,
   "metadata": {},
   "outputs": [],
   "source": [
    "sc.stop()"
   ]
  },
  {
   "cell_type": "code",
   "execution_count": 3,
   "metadata": {},
   "outputs": [
    {
     "data": {
      "text/plain": [
       "[0, 1, 2, 3, 4, 5, 6, 7, 8, 9]"
      ]
     },
     "execution_count": 3,
     "metadata": {},
     "output_type": "execute_result"
    }
   ],
   "source": [
    "sc.parallelize(range(10)).collect()"
   ]
  },
  {
   "cell_type": "code",
   "execution_count": 4,
   "metadata": {},
   "outputs": [],
   "source": [
    "textFile = sc.textFile(\"data/lotr.txt\")"
   ]
  },
  {
   "cell_type": "code",
   "execution_count": 9,
   "metadata": {},
   "outputs": [
    {
     "data": {
      "text/plain": [
       "'When Mr. Bilbo Baggins of Bag End announced that he would shortly be celebrating his eleventy-first birthday with a party of special magnificence, there was much talk and excitement in Hobbiton.'"
      ]
     },
     "execution_count": 9,
     "metadata": {},
     "output_type": "execute_result"
    }
   ],
   "source": [
    "textFile.first()\n"
   ]
  },
  {
   "cell_type": "code",
   "execution_count": 7,
   "metadata": {},
   "outputs": [],
   "source": [
    "linesWithBilbo = textFile.filter(lambda line: \"Bilbo\" in line)"
   ]
  },
  {
   "cell_type": "code",
   "execution_count": 8,
   "metadata": {},
   "outputs": [
    {
     "data": {
      "text/plain": [
       "71"
      ]
     },
     "execution_count": 8,
     "metadata": {},
     "output_type": "execute_result"
    }
   ],
   "source": [
    "linesWithBilbo.count()"
   ]
  },
  {
   "cell_type": "code",
   "execution_count": 129,
   "metadata": {},
   "outputs": [],
   "source": [
    "rdd = sc.textFile(\"data/products.txt\")"
   ]
  },
  {
   "cell_type": "code",
   "execution_count": 130,
   "metadata": {},
   "outputs": [],
   "source": [
    "prod = rdd.map(lambda s: s.split())"
   ]
  },
  {
   "cell_type": "code",
   "execution_count": 131,
   "metadata": {},
   "outputs": [],
   "source": [
    "prod = prod.map(lambda k: (int(k[0]), k[1], float(k[2]), k[3]))"
   ]
  },
  {
   "cell_type": "code",
   "execution_count": 132,
   "metadata": {},
   "outputs": [
    {
     "data": {
      "text/plain": [
       "[(1, 'apple', 3.3, 'fruit'),\n",
       " (2, 'orange', 6.5, 'fruit'),\n",
       " (3, 'beer', 10.0, 'beverage'),\n",
       " (4, 'wine', 15.0, 'beverage'),\n",
       " (5, 'TAOCP1', 20.9, 'book'),\n",
       " (6, 'TAOCP2', 5.2, 'book'),\n",
       " (7, 'film1', 30.0, 'film'),\n",
       " (8, 'film2', 20.4, 'film'),\n",
       " (9, 'film3', 33.0, 'film'),\n",
       " (10, 'film4', 42.9, 'film'),\n",
       " (11, 'film5', 13.3, 'film'),\n",
       " (12, 'milk', 7.6, 'beverage'),\n",
       " (13, 'banana', 5.3, 'fruit'),\n",
       " (14, 'grapes', 7.5, 'fruit'),\n",
       " (15, 'soda', 4.0, 'beverage'),\n",
       " (16, 'water', 2.0, 'beverage'),\n",
       " (17, 's_water', 3.5, 'beverage'),\n",
       " (18, 'grappe', 8.2, 'fruit'),\n",
       " (19, 'pear', 7.0, 'fruit'),\n",
       " (20, 'strawberry', 9.0, 'fruit'),\n",
       " (21, 'plum', 4.4, 'fruit'),\n",
       " (22, 'mango', 17.5, 'fruit')]"
      ]
     },
     "execution_count": 132,
     "metadata": {},
     "output_type": "execute_result"
    }
   ],
   "source": [
    "prod.collect()\n"
   ]
  },
  {
   "cell_type": "code",
   "execution_count": 76,
   "metadata": {},
   "outputs": [],
   "source": [
    "def filter_prod20(value):\n",
    "    _, _, price, _ = value\n",
    "    return price > 20\n",
    "prod20 = prod.filter(filter_prod20)"
   ]
  },
  {
   "cell_type": "code",
   "execution_count": 77,
   "metadata": {},
   "outputs": [
    {
     "data": {
      "text/plain": [
       "[(5, 'TAOCP1', 20.9, 'book'),\n",
       " (7, 'film1', 30.0, 'film'),\n",
       " (8, 'film2', 20.4, 'film'),\n",
       " (9, 'film3', 33.0, 'film'),\n",
       " (10, 'film4', 42.9, 'film')]"
      ]
     },
     "execution_count": 77,
     "metadata": {},
     "output_type": "execute_result"
    }
   ],
   "source": [
    "prod20.collect()"
   ]
  },
  {
   "cell_type": "code",
   "execution_count": 81,
   "metadata": {},
   "outputs": [],
   "source": [
    "def sort_prod20(value):\n",
    "    _, _, price, _ = value\n",
    "    return price\n",
    "\n",
    "\n",
    "prod20s = prod20.sortBy(sort_prod20)\n"
   ]
  },
  {
   "cell_type": "code",
   "execution_count": 82,
   "metadata": {},
   "outputs": [
    {
     "data": {
      "text/plain": [
       "[(8, 'film2', 20.4, 'film'),\n",
       " (5, 'TAOCP1', 20.9, 'book'),\n",
       " (7, 'film1', 30.0, 'film'),\n",
       " (9, 'film3', 33.0, 'film'),\n",
       " (10, 'film4', 42.9, 'film')]"
      ]
     },
     "execution_count": 82,
     "metadata": {},
     "output_type": "execute_result"
    }
   ],
   "source": [
    "prod20s.collect()"
   ]
  },
  {
   "cell_type": "code",
   "execution_count": 92,
   "metadata": {},
   "outputs": [
    {
     "data": {
      "text/plain": [
       "[('fruit', 17.5), ('beverage', 15.0), ('book', 20.9), ('film', 42.9)]"
      ]
     },
     "execution_count": 92,
     "metadata": {},
     "output_type": "execute_result"
    }
   ],
   "source": [
    "def func_map(v):\n",
    "    _, _, price, category = v\n",
    "    return category, price\n",
    "\n",
    "maxpricebycat = prod.map(func_map)\n",
    "\n",
    "def func_reduce(a, b):\n",
    "    return a if a > b else b\n",
    "\n",
    "maxpricebycat = maxpricebycat.reduceByKey(func_reduce)\n",
    "\n",
    "maxpricebycat.collect()\n"
   ]
  },
  {
   "cell_type": "code",
   "execution_count": 91,
   "metadata": {},
   "outputs": [
    {
     "data": {
      "text/plain": [
       "[('fruit', 9), ('beverage', 6), ('book', 2), ('film', 5)]"
      ]
     },
     "execution_count": 91,
     "metadata": {},
     "output_type": "execute_result"
    }
   ],
   "source": [
    "def func_map(v):\n",
    "    _, _, _, category = v\n",
    "    return (category, 1)\n",
    "\n",
    "\n",
    "countbycat = prod.map(func_map)\n",
    "\n",
    "\n",
    "from operator import add\n",
    "\n",
    "countbycat = countbycat.reduceByKey(add)\n",
    "\n",
    "countbycat.collect()\n"
   ]
  },
  {
   "cell_type": "code",
   "execution_count": 96,
   "metadata": {},
   "outputs": [
    {
     "data": {
      "text/plain": [
       "[('beverage', 11.371875),\n",
       " ('fruit', 12.885546875),\n",
       " ('book', 13.049999999999999),\n",
       " ('film', 35.55625)]"
      ]
     },
     "execution_count": 96,
     "metadata": {},
     "output_type": "execute_result"
    }
   ],
   "source": [
    "def func_map(v):\n",
    "    _, _, price, category = v\n",
    "    return category, price\n",
    "\n",
    "\n",
    "badavg = prod.map(func_map)\n",
    "\n",
    "def sort_func(value):\n",
    "    _, price = value\n",
    "    return price\n",
    "\n",
    "\n",
    "badavg = badavg.sortBy(sort_func)\n",
    "\n",
    "def avg(a, b):\n",
    "    return 0.5*(a+b)\n",
    "\n",
    "\n",
    "badavg = badavg.reduceByKey(avg)\n",
    "\n",
    "badavg.collect()\n"
   ]
  },
  {
   "cell_type": "code",
   "execution_count": 108,
   "metadata": {},
   "outputs": [
    {
     "data": {
      "text/plain": [
       "[('fruit', 7.633333333333332),\n",
       " ('beverage', 7.016666666666667),\n",
       " ('book', 13.049999999999999),\n",
       " ('film', 27.920000000000005)]"
      ]
     },
     "execution_count": 108,
     "metadata": {},
     "output_type": "execute_result"
    }
   ],
   "source": [
    "def func_map(v):\n",
    "    _, _, price, category = v\n",
    "    return category, (price, 1)\n",
    "\n",
    "\n",
    "goodavg = prod.map(func_map)\n",
    "\n",
    "\n",
    "def func_reduce(a, b):\n",
    "    pricea, counta = a\n",
    "    priceb, countb = b\n",
    "    return pricea + priceb, counta + countb\n",
    "\n",
    "\n",
    "goodavg = goodavg.reduceByKey(func_reduce)\n",
    "\n",
    "\n",
    "def func_map(v):\n",
    "    category, (price, count) = v\n",
    "    return category, price / count\n",
    "\n",
    "\n",
    "goodavg = goodavg.map(func_map)\n",
    "\n",
    "goodavg.collect()\n"
   ]
  },
  {
   "cell_type": "code",
   "execution_count": 120,
   "metadata": {},
   "outputs": [],
   "source": [
    "rddA = sc.textFile(\"data/A.txt\")\n",
    "rddB = sc.textFile(\"data/B.txt\")\n",
    "\n",
    "A = rddA.map(lambda v: int(v)).distinct()\n",
    "B = rddB.map(lambda v: int(v)).distinct()\n"
   ]
  },
  {
   "cell_type": "code",
   "execution_count": 117,
   "metadata": {},
   "outputs": [
    {
     "data": {
      "text/plain": [
       "([1, 2, 4, 6, 8, 10, 12, 14], [1, 3, 5, 7, 9, 10, 12, 14, 16, 18, 20])"
      ]
     },
     "execution_count": 117,
     "metadata": {},
     "output_type": "execute_result"
    }
   ],
   "source": [
    "A.collect(), B.collect()"
   ]
  },
  {
   "cell_type": "code",
   "execution_count": 122,
   "metadata": {},
   "outputs": [
    {
     "data": {
      "text/plain": [
       "[2, 4, 6, 8, 10, 12, 14, 16, 18, 20, 1, 3, 5, 7, 9]"
      ]
     },
     "execution_count": 122,
     "metadata": {},
     "output_type": "execute_result"
    }
   ],
   "source": [
    "unionAB = A.union(B).distinct()\n",
    "\n",
    "unionAB.collect()\n"
   ]
  },
  {
   "cell_type": "code",
   "execution_count": 125,
   "metadata": {},
   "outputs": [
    {
     "data": {
      "text/plain": [
       "[10, 12, 14, 1]"
      ]
     },
     "execution_count": 125,
     "metadata": {},
     "output_type": "execute_result"
    }
   ],
   "source": [
    "interAB = A.intersection(B)\n",
    "\n",
    "interAB.collect()\n"
   ]
  },
  {
   "cell_type": "code",
   "execution_count": 139,
   "metadata": {},
   "outputs": [
    {
     "data": {
      "text/plain": [
       "[(2, (1, 0)),\n",
       " (4, (1, 0)),\n",
       " (6, (1, 0)),\n",
       " (8, (1, 0)),\n",
       " (10, (1, 1)),\n",
       " (12, (1, 1)),\n",
       " (14, (1, 1)),\n",
       " (16, (0, 1)),\n",
       " (18, (0, 1)),\n",
       " (20, (0, 1)),\n",
       " (1, (1, 1)),\n",
       " (3, (0, 1)),\n",
       " (5, (0, 1)),\n",
       " (7, (0, 1)),\n",
       " (9, (0, 1))]"
      ]
     },
     "execution_count": 139,
     "metadata": {},
     "output_type": "execute_result"
    }
   ],
   "source": [
    "\n",
    "Ams = A.map(lambda e: (e, (1, 0)))\n",
    "Bms = B.map(lambda e: (e, (0, 1)))\n",
    "\n",
    "ABms = Ams.union(Bms)\n",
    "\n",
    "def reduce_func(a, b):\n",
    "    Ac1, Bc1 = a\n",
    "    Ac2, Bc2 = b\n",
    "\n",
    "    return Ac1 + Ac2, Bc1 + Bc2\n",
    "\n",
    "\n",
    "ABms = ABms.reduceByKey(reduce_func)\n",
    "\n",
    "ABms.collect()"
   ]
  },
  {
   "cell_type": "code",
   "execution_count": 141,
   "metadata": {},
   "outputs": [
    {
     "data": {
      "text/plain": [
       "[(2, 0),\n",
       " (4, 0),\n",
       " (6, 0),\n",
       " (8, 0),\n",
       " (10, 1),\n",
       " (12, 1),\n",
       " (14, 1),\n",
       " (16, 0),\n",
       " (18, 0),\n",
       " (20, 0),\n",
       " (1, 1),\n",
       " (3, 0),\n",
       " (5, 0),\n",
       " (7, 0),\n",
       " (9, 0)]"
      ]
     },
     "execution_count": 141,
     "metadata": {},
     "output_type": "execute_result"
    }
   ],
   "source": [
    "def map_func(v):\n",
    "    e, (a, b) = v\n",
    "    return e, min(a, b)\n",
    "\n",
    "IABms = ABms.map(map_func)\n",
    "\n",
    "IABms.collect()\n"
   ]
  },
  {
   "cell_type": "code",
   "execution_count": 143,
   "metadata": {},
   "outputs": [
    {
     "data": {
      "text/plain": [
       "[(2, 1),\n",
       " (4, 1),\n",
       " (6, 1),\n",
       " (8, 1),\n",
       " (10, 0),\n",
       " (12, 0),\n",
       " (14, 0),\n",
       " (16, 0),\n",
       " (18, 0),\n",
       " (20, 0),\n",
       " (1, 0),\n",
       " (3, 0),\n",
       " (5, 0),\n",
       " (7, 0),\n",
       " (9, 0)]"
      ]
     },
     "execution_count": 143,
     "metadata": {},
     "output_type": "execute_result"
    }
   ],
   "source": [
    "def map_func(v):\n",
    "    e, (a, b) = v\n",
    "    return e, max(0, a - b)\n",
    "\n",
    "\n",
    "DABms = ABms.map(map_func)\n",
    "\n",
    "DABms.collect()\n"
   ]
  },
  {
   "cell_type": "code",
   "execution_count": 144,
   "metadata": {},
   "outputs": [
    {
     "data": {
      "text/plain": [
       "[(2, 1),\n",
       " (4, 1),\n",
       " (6, 1),\n",
       " (8, 1),\n",
       " (10, 0),\n",
       " (12, 0),\n",
       " (14, 0),\n",
       " (16, 1),\n",
       " (18, 1),\n",
       " (20, 1),\n",
       " (1, 0),\n",
       " (3, 1),\n",
       " (5, 1),\n",
       " (7, 1),\n",
       " (9, 1)]"
      ]
     },
     "execution_count": 144,
     "metadata": {},
     "output_type": "execute_result"
    }
   ],
   "source": [
    "def map_func(v):\n",
    "    e, (a, b) = v\n",
    "    return e, max(a, b) - min(a, b)\n",
    "\n",
    "\n",
    "SABms = ABms.map(map_func)\n",
    "\n",
    "SABms.collect()\n"
   ]
  }
 ],
 "metadata": {
  "interpreter": {
   "hash": "c6e04d67a82f8a38697c9513e9c30adb97e9b8d0bf04ad706600309f5137d24f"
  },
  "kernelspec": {
   "display_name": "Python 3.9.5 64-bit ('.venv': venv)",
   "name": "python3"
  },
  "language_info": {
   "codemirror_mode": {
    "name": "ipython",
    "version": 3
   },
   "file_extension": ".py",
   "mimetype": "text/x-python",
   "name": "python",
   "nbconvert_exporter": "python",
   "pygments_lexer": "ipython3",
   "version": "3.9.5"
  },
  "orig_nbformat": 4
 },
 "nbformat": 4,
 "nbformat_minor": 2
}
