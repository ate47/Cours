{
 "cells": [
  {
   "cell_type": "code",
   "execution_count": 1,
   "metadata": {},
   "outputs": [],
   "source": [
    "import pyspark\n",
    "conf = pyspark.SparkConf().setAppName('appName').setMaster('local')\n",
    "sc = pyspark.SparkContext(conf=conf)\n"
   ]
  },
  {
   "cell_type": "code",
   "execution_count": null,
   "metadata": {},
   "outputs": [],
   "source": [
    "sc.stop()"
   ]
  },
  {
   "cell_type": "code",
   "execution_count": 2,
   "metadata": {},
   "outputs": [],
   "source": [
    "def load_vector(file: str):\n",
    "    textFile = sc.textFile(file)\n",
    "    def map_func(value):\n",
    "        i, v = value.split()\n",
    "        return int(i), float(v)\n",
    "    return textFile.map(map_func)\n",
    "\n",
    "\n",
    "def load_matrix(file: str):\n",
    "    textFile = sc.textFile(file)\n",
    "    def map_func(value):\n",
    "        i, j, v = value.split()\n",
    "        return int(i), int(j), float(v)\n",
    "    return textFile.map(map_func)\n",
    "\n",
    "\n",
    "V = load_vector(\"data/V.txt\")\n",
    "W = load_vector(\"data/W.txt\")\n",
    "M = load_matrix(\"data/M.txt\")\n"
   ]
  },
  {
   "cell_type": "code",
   "execution_count": 3,
   "metadata": {},
   "outputs": [
    {
     "data": {
      "text/plain": [
       "([(1, 1.5), (2, 5.0), (4, 1.3), (7, 3.0)],\n",
       " [(1, -1.5), (2, 2.0), (3, 2.3), (4, 2.0), (6, 2.5)],\n",
       " [(1, 1, 3.2),\n",
       "  (1, 2, 2.4),\n",
       "  (1, 3, 7.0),\n",
       "  (1, 4, 2.0),\n",
       "  (2, 2, 7.1),\n",
       "  (2, 3, -1.0),\n",
       "  (3, 3, 1.0)])"
      ]
     },
     "execution_count": 3,
     "metadata": {},
     "output_type": "execute_result"
    }
   ],
   "source": [
    "(\n",
    "    V.collect(),\n",
    "    W.collect(),\n",
    "    M.collect()\n",
    ")"
   ]
  },
  {
   "cell_type": "code",
   "execution_count": 4,
   "metadata": {},
   "outputs": [],
   "source": [
    "from operator import add\n",
    "def map_func(value):\n",
    "    _, v = value\n",
    "    return v * v\n",
    "\n",
    "normV = V.map(map_func).reduce(add) ** 0.5\n"
   ]
  },
  {
   "cell_type": "code",
   "execution_count": 5,
   "metadata": {},
   "outputs": [
    {
     "data": {
      "text/plain": [
       "6.159545437773797"
      ]
     },
     "execution_count": 5,
     "metadata": {},
     "output_type": "execute_result"
    }
   ],
   "source": [
    "normV\n"
   ]
  },
  {
   "cell_type": "code",
   "execution_count": 12,
   "metadata": {},
   "outputs": [
    {
     "data": {
      "text/plain": [
       "[(2, 7.0), (4, 3.3), (6, 2.5), (7, 3.0), (3, 2.3)]"
      ]
     },
     "execution_count": 12,
     "metadata": {},
     "output_type": "execute_result"
    }
   ],
   "source": [
    "from operator import add\n",
    "sumU = V.union(W).reduceByKey(add)\n",
    "\n",
    "def filter_func(value):\n",
    "    _, v = value\n",
    "    return v != 0\n",
    "\n",
    "sumU = sumU.filter(filter_func)\n",
    "\n",
    "sumU.collect()"
   ]
  },
  {
   "cell_type": "code",
   "execution_count": 9,
   "metadata": {},
   "outputs": [
    {
     "data": {
      "text/plain": [
       "10.35"
      ]
     },
     "execution_count": 9,
     "metadata": {},
     "output_type": "execute_result"
    }
   ],
   "source": [
    "from operator import add\n",
    "\n",
    "\n",
    "def map_func(value):\n",
    "    _, (vi, wi) = value\n",
    "    return vi * wi\n",
    "\n",
    "V.join(W).map(map_func).reduce(add)"
   ]
  },
  {
   "cell_type": "code",
   "execution_count": 13,
   "metadata": {},
   "outputs": [],
   "source": [
    "from operator import add\n",
    "\n",
    "def map_func(value):\n",
    "    i, j, v = value\n",
    "    return j, (i, v)\n",
    "\n",
    "\n",
    "sumVM = V.join(M.map(map_func))\n",
    "\n",
    "def map_func(value):\n",
    "    _, (v, (i, m)) = value\n",
    "    return i, (m * v)\n",
    "\n",
    "\n",
    "sumVM = sumVM.map(map_func)\n",
    "\n",
    "sumVM = sumVM.reduceByKey(add)\n",
    "\n",
    "\n",
    "def filter_func(value):\n",
    "    _, v = value\n",
    "    return v != 0\n",
    "\n",
    "\n",
    "sumVM = sumVM.filter(filter_func)\n"
   ]
  },
  {
   "cell_type": "code",
   "execution_count": 11,
   "metadata": {},
   "outputs": [
    {
     "data": {
      "text/plain": [
       "[(2, 35.5), (1, 19.4)]"
      ]
     },
     "execution_count": 11,
     "metadata": {},
     "output_type": "execute_result"
    }
   ],
   "source": [
    "sumVM.collect()"
   ]
  },
  {
   "cell_type": "code",
   "execution_count": 14,
   "metadata": {},
   "outputs": [
    {
     "name": "stdout",
     "output_type": "stream",
     "text": [
      "For i = 0   l = 5.4454401686874\n",
      "For i = 1   l = 7.21308497442885\n",
      "For i = 2   l = 7.15275911918617\n",
      "For i = 3   l = 7.124109421391881\n",
      "For i = 4   l = 7.110930432120519\n",
      "For i = 5   l = 7.104939169125513\n",
      "For i = 6   l = 7.102228675598136\n",
      "For i = 7   l = 7.101004993592052\n",
      "For i = 8   l = 7.10045306030242\n",
      "For i = 9   l = 7.1002042175933955\n"
     ]
    }
   ],
   "source": [
    "from operator import add\n",
    "\n",
    "\n",
    "def filter_func(value):\n",
    "    _, v = value\n",
    "    return v != 0\n",
    "    \n",
    "def norm(V) -> float:\n",
    "    def map_func(value):\n",
    "        _, v = value\n",
    "        return v * v\n",
    "    return V.map(map_func).reduce(add) ** 0.5\n",
    "\n",
    "def matrix_mult(M, V):\n",
    "    def map_func(value):\n",
    "        i, j, v = value\n",
    "        return j, (i, v)\n",
    "    sumVM = V.join(M.map(map_func))\n",
    "    def map_func(value):\n",
    "        _, (v, (i, m)) = value\n",
    "        return i, (m * v)\n",
    "    sumVM = sumVM.map(map_func)\n",
    "    sumVM.collect()\n",
    "    return sumVM.reduceByKey(add).filter(filter_func)\n",
    "\n",
    "def dot_product(V, W):\n",
    "    def map_func(value):\n",
    "        _, (vi, wi) = value\n",
    "        return vi * wi\n",
    "    return V.join(W).map(map_func).reduce(add)\n",
    "\n",
    "\n",
    "\n",
    "Vi = V\n",
    "\n",
    "for i in range(10):\n",
    "    normV = norm(Vi)\n",
    "    def map_func(value):\n",
    "        i, v = value\n",
    "        return i, v / normV\n",
    "    NVi = Vi.map(map_func)\n",
    "    Vi = matrix_mult(M, NVi)\n",
    "    l = dot_product(Vi, NVi)\n",
    "    print(\"For i =\", i,\"  l =\", l)\n",
    "    \n"
   ]
  }
 ],
 "metadata": {
  "interpreter": {
   "hash": "20cb972d1d241d55ac4065522e1d50390f43b22316439eb10d572675e0f4021d"
  },
  "kernelspec": {
   "display_name": "Python 3.9.5 64-bit ('.venv': venv)",
   "name": "python3"
  },
  "language_info": {
   "codemirror_mode": {
    "name": "ipython",
    "version": 3
   },
   "file_extension": ".py",
   "mimetype": "text/x-python",
   "name": "python",
   "nbconvert_exporter": "python",
   "pygments_lexer": "ipython3",
   "version": "3.9.5"
  },
  "orig_nbformat": 4
 },
 "nbformat": 4,
 "nbformat_minor": 2
}
