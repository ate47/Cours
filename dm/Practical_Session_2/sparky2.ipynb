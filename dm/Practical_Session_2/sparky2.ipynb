{
 "cells": [
  {
   "cell_type": "code",
   "execution_count": null,
   "metadata": {},
   "outputs": [],
   "source": [
    "import pyspark\n",
    "conf = pyspark.SparkConf().setAppName('appName').setMaster('local')\n",
    "sc = pyspark.SparkContext(conf=conf)\n"
   ]
  },
  {
   "cell_type": "code",
   "execution_count": null,
   "metadata": {},
   "outputs": [],
   "source": [
    "sc.stop()"
   ]
  },
  {
   "cell_type": "code",
   "execution_count": null,
   "metadata": {},
   "outputs": [],
   "source": [
    "def load_vector(file: str):\n",
    "    textFile = sc.textFile(file)\n",
    "    def map_func(value):\n",
    "        i, v = value.split()\n",
    "        return int(i), float(v)\n",
    "    return textFile.map(map_func)\n",
    "\n",
    "\n",
    "def load_matrix(file: str):\n",
    "    textFile = sc.textFile(file)\n",
    "    def map_func(value):\n",
    "        i, j, v = value.split()\n",
    "        return int(i), int(j), float(v)\n",
    "    return textFile.map(map_func)\n",
    "\n",
    "\n",
    "V = load_vector(\"data/V.txt\")\n",
    "W = load_vector(\"data/W.txt\")\n",
    "M = load_matrix(\"data/M.txt\")\n"
   ]
  },
  {
   "cell_type": "code",
   "execution_count": null,
   "metadata": {},
   "outputs": [],
   "source": [
    "(\n",
    "    V.collect(),\n",
    "    W.collect(),\n",
    "    M.collect()\n",
    ")"
   ]
  },
  {
   "cell_type": "code",
   "execution_count": null,
   "metadata": {},
   "outputs": [],
   "source": [
    "from operator import add\n",
    "def map_func(value):\n",
    "    _, v = value\n",
    "    return v * v\n",
    "\n",
    "normV = V.map(map_func).reduce(add) ** 0.5\n"
   ]
  },
  {
   "cell_type": "code",
   "execution_count": null,
   "metadata": {},
   "outputs": [],
   "source": [
    "normV\n"
   ]
  },
  {
   "cell_type": "code",
   "execution_count": null,
   "metadata": {},
   "outputs": [],
   "source": [
    "from operator import add\n",
    "sumU = V.union(W).reduceByKey(add)\n",
    "sumU.collect()"
   ]
  },
  {
   "cell_type": "code",
   "execution_count": null,
   "metadata": {},
   "outputs": [],
   "source": [
    "from operator import add\n",
    "\n",
    "\n",
    "def map_func(value):\n",
    "    _, (vi, wi) = value\n",
    "    return vi * wi\n",
    "\n",
    "V.join(W).map(map_func).reduce(add)"
   ]
  },
  {
   "cell_type": "code",
   "execution_count": null,
   "metadata": {},
   "outputs": [],
   "source": [
    "from operator import add\n",
    "\n",
    "def map_func(value):\n",
    "    i, j, v = value\n",
    "    return j, (i, v)\n",
    "\n",
    "\n",
    "sumVM = V.join(M.map(map_func))\n",
    "\n",
    "def map_func(value):\n",
    "    _, (v, (i, m)) = value\n",
    "    return i, (m * v)\n",
    "\n",
    "\n",
    "sumVM = sumVM.map(map_func)\n",
    "\n",
    "sumVM = sumVM.reduceByKey(add)\n"
   ]
  },
  {
   "cell_type": "code",
   "execution_count": null,
   "metadata": {},
   "outputs": [],
   "source": [
    "sumVM.collect()"
   ]
  },
  {
   "cell_type": "code",
   "execution_count": null,
   "metadata": {},
   "outputs": [],
   "source": [
    "from operator import add\n",
    "\n",
    "\n",
    "def norm(V) -> float:\n",
    "    def map_func(value):\n",
    "        _, v = value\n",
    "        return v * v\n",
    "    return V.map(map_func).reduce(add) ** 0.5\n",
    "\n",
    "def matrix_mult(M, V):\n",
    "    def map_func(value):\n",
    "        i, j, v = value\n",
    "        return j, (i, v)\n",
    "    sumVM = V.join(M.map(map_func))\n",
    "    def map_func(value):\n",
    "        j, (v, (i, m)) = value\n",
    "        return i, (m * v)\n",
    "    sumVM = sumVM.map(map_func)\n",
    "    return sumVM.reduceByKey(add)\n",
    "\n",
    "def dot_product(V, W):\n",
    "    def map_func(value):\n",
    "        _, (vi, wi) = value\n",
    "        return vi * wi\n",
    "    return V.join(W).map(map_func).reduce(add)\n",
    "\n",
    "Vi = V\n",
    "\n",
    "for i in range(10):\n",
    "    normV = norm(Vi)\n",
    "    def map_func(value):\n",
    "        i, v = value\n",
    "        return i, v / normV\n",
    "    NVi = Vi.map(map_func)\n",
    "    Vi = matrix_mult(M, NVi)\n",
    "    l = dot_product(Vi, NVi)\n",
    "    print(\"For i =\", i,\"  l =\", l)\n",
    "    \n"
   ]
  }
 ],
 "metadata": {
  "interpreter": {
   "hash": "20cb972d1d241d55ac4065522e1d50390f43b22316439eb10d572675e0f4021d"
  },
  "kernelspec": {
   "display_name": "Python 3.9.5 64-bit ('.venv': venv)",
   "name": "python3"
  },
  "language_info": {
   "codemirror_mode": {
    "name": "ipython",
    "version": 3
   },
   "file_extension": ".py",
   "mimetype": "text/x-python",
   "name": "python",
   "nbconvert_exporter": "python",
   "pygments_lexer": "ipython3",
   "version": "3.9.5"
  },
  "orig_nbformat": 4
 },
 "nbformat": 4,
 "nbformat_minor": 2
}
