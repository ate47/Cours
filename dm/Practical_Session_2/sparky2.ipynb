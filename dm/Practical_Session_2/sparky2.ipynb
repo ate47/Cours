{
 "cells": [
  {
   "cell_type": "code",
   "execution_count": 1,
   "source": [
    "import pyspark\r\n",
    "conf = pyspark.SparkConf().setAppName('appName').setMaster('local')\r\n",
    "sc = pyspark.SparkContext(conf=conf)\r\n"
   ],
   "outputs": [],
   "metadata": {}
  },
  {
   "cell_type": "code",
   "execution_count": null,
   "source": [
    "sc.stop()"
   ],
   "outputs": [],
   "metadata": {}
  },
  {
   "cell_type": "code",
   "execution_count": 2,
   "source": [
    "def load_vector(file: str):\r\n",
    "    textFile = sc.textFile(file)\r\n",
    "    def map_func(value):\r\n",
    "        i, v = value.split()\r\n",
    "        return int(i), float(v)\r\n",
    "    return textFile.map(map_func)\r\n",
    "\r\n",
    "\r\n",
    "def load_matrix(file: str):\r\n",
    "    textFile = sc.textFile(file)\r\n",
    "    def map_func(value):\r\n",
    "        i, j, v = value.split()\r\n",
    "        return int(i), int(j), float(v)\r\n",
    "    return textFile.map(map_func)\r\n",
    "\r\n",
    "\r\n",
    "V = load_vector(\"data/V.txt\")\r\n",
    "W = load_vector(\"data/W.txt\")\r\n",
    "M = load_matrix(\"data/M.txt\")\r\n"
   ],
   "outputs": [],
   "metadata": {}
  },
  {
   "cell_type": "code",
   "execution_count": 3,
   "source": [
    "(\r\n",
    "    V.collect(),\r\n",
    "    W.collect(),\r\n",
    "    M.collect()\r\n",
    ")"
   ],
   "outputs": [
    {
     "output_type": "execute_result",
     "data": {
      "text/plain": [
       "([(1, 1.5), (2, 5.0), (4, 1.3), (7, 3.0)],\n",
       " [(1, -1.5), (2, 2.0), (3, 2.3), (4, 2.0), (6, 2.5)],\n",
       " [(1, 1, 3.2),\n",
       "  (1, 2, 2.4),\n",
       "  (1, 3, 7.0),\n",
       "  (1, 4, 2.0),\n",
       "  (2, 2, 7.1),\n",
       "  (2, 3, -1.0),\n",
       "  (3, 3, 1.0)])"
      ]
     },
     "metadata": {},
     "execution_count": 3
    }
   ],
   "metadata": {}
  },
  {
   "cell_type": "code",
   "execution_count": 4,
   "source": [
    "from operator import add\r\n",
    "def map_func(value):\r\n",
    "    _, v = value\r\n",
    "    return v * v\r\n",
    "\r\n",
    "normV = V.map(map_func).reduce(add) ** 0.5\r\n"
   ],
   "outputs": [],
   "metadata": {}
  },
  {
   "cell_type": "code",
   "execution_count": 5,
   "source": [
    "normV\r\n"
   ],
   "outputs": [
    {
     "output_type": "execute_result",
     "data": {
      "text/plain": [
       "6.159545437773797"
      ]
     },
     "metadata": {},
     "execution_count": 5
    }
   ],
   "metadata": {}
  },
  {
   "cell_type": "code",
   "execution_count": 6,
   "source": [
    "from operator import add\r\n",
    "sumU = V.union(W).reduceByKey(add)\r\n",
    "sumU.collect()"
   ],
   "outputs": [
    {
     "output_type": "execute_result",
     "data": {
      "text/plain": [
       "[(2, 7.0), (4, 3.3), (6, 2.5), (1, 0.0), (7, 3.0), (3, 2.3)]"
      ]
     },
     "metadata": {},
     "execution_count": 6
    }
   ],
   "metadata": {}
  },
  {
   "cell_type": "code",
   "execution_count": 7,
   "source": [
    "from operator import add\r\n",
    "\r\n",
    "\r\n",
    "def map_func(value):\r\n",
    "    _, (vi, wi) = value\r\n",
    "    return vi * wi\r\n",
    "\r\n",
    "V.join(W).map(map_func).reduce(add)"
   ],
   "outputs": [
    {
     "output_type": "execute_result",
     "data": {
      "text/plain": [
       "10.35"
      ]
     },
     "metadata": {},
     "execution_count": 7
    }
   ],
   "metadata": {}
  },
  {
   "cell_type": "code",
   "execution_count": 8,
   "source": [
    "from operator import add\r\n",
    "\r\n",
    "def map_func(value):\r\n",
    "    i, j, v = value\r\n",
    "    return j, (i, v)\r\n",
    "\r\n",
    "\r\n",
    "sumVM = V.join(M.map(map_func))\r\n",
    "\r\n",
    "def map_func(value):\r\n",
    "    _, (v, (i, m)) = value\r\n",
    "    return i, (m * v)\r\n",
    "\r\n",
    "\r\n",
    "sumVM = sumVM.map(map_func)\r\n",
    "\r\n",
    "sumVM = sumVM.reduceByKey(add)\r\n"
   ],
   "outputs": [],
   "metadata": {}
  },
  {
   "cell_type": "code",
   "execution_count": 9,
   "source": [
    "sumVM.collect()"
   ],
   "outputs": [
    {
     "output_type": "execute_result",
     "data": {
      "text/plain": [
       "[(2, 35.5), (1, 19.4)]"
      ]
     },
     "metadata": {},
     "execution_count": 9
    }
   ],
   "metadata": {}
  },
  {
   "cell_type": "code",
   "execution_count": 10,
   "source": [
    "from operator import add\r\n",
    "\r\n",
    "\r\n",
    "def norm(V) -> float:\r\n",
    "    def map_func(value):\r\n",
    "        _, v = value\r\n",
    "        return v * v\r\n",
    "    return V.map(map_func).reduce(add) ** 0.5\r\n",
    "\r\n",
    "def matrix_mult(M, V):\r\n",
    "    def map_func(value):\r\n",
    "        i, j, v = value\r\n",
    "        return j, (i, v)\r\n",
    "    sumVM = V.join(M.map(map_func))\r\n",
    "    def map_func(value):\r\n",
    "        j, (v, (i, m)) = value\r\n",
    "        return i, (m * v)\r\n",
    "    sumVM = sumVM.map(map_func)\r\n",
    "    return sumVM.reduceByKey(add)\r\n",
    "\r\n",
    "def dot_product(V, W):\r\n",
    "    def map_func(value):\r\n",
    "        _, (vi, wi) = value\r\n",
    "        return vi * wi\r\n",
    "    return V.join(W).map(map_func).reduce(add)\r\n",
    "\r\n",
    "Vi = V\r\n",
    "\r\n",
    "for i in range(10):\r\n",
    "    normV = norm(Vi)\r\n",
    "    def map_func(value):\r\n",
    "        i, v = value\r\n",
    "        return i, v / normV\r\n",
    "    NVi = Vi.map(map_func)\r\n",
    "    Vi = matrix_mult(M, NVi)\r\n",
    "    l = dot_product(Vi, NVi)\r\n",
    "    print(\"For i =\", i,\"  l =\", l)\r\n",
    "    \r\n"
   ],
   "outputs": [
    {
     "output_type": "stream",
     "name": "stdout",
     "text": [
      "For i = 0   l = 5.4454401686874\n",
      "For i = 1   l = 7.21308497442885\n",
      "For i = 2   l = 7.15275911918617\n",
      "For i = 3   l = 7.124109421391881\n",
      "For i = 4   l = 7.110930432120519\n",
      "For i = 5   l = 7.104939169125513\n",
      "For i = 6   l = 7.102228675598136\n",
      "For i = 7   l = 7.101004993592052\n",
      "For i = 8   l = 7.10045306030242\n",
      "For i = 9   l = 7.1002042175933955\n"
     ]
    }
   ],
   "metadata": {}
  },
  {
   "cell_type": "code",
   "execution_count": null,
   "source": [],
   "outputs": [],
   "metadata": {}
  }
 ],
 "metadata": {
  "interpreter": {
   "hash": "205af9fb0630873fb942ea7536a340d7462e223509648777588f282e5bf4f96b"
  },
  "kernelspec": {
   "name": "python3",
   "display_name": "Python 3.9.0 64-bit (system)"
  },
  "language_info": {
   "codemirror_mode": {
    "name": "ipython",
    "version": 3
   },
   "file_extension": ".py",
   "mimetype": "text/x-python",
   "name": "python",
   "nbconvert_exporter": "python",
   "pygments_lexer": "ipython3",
   "version": "3.9.0"
  },
  "orig_nbformat": 4
 },
 "nbformat": 4,
 "nbformat_minor": 2
}