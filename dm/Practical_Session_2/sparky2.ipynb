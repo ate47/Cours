{
 "cells": [
  {
   "cell_type": "code",
   "execution_count": 1,
   "metadata": {},
   "outputs": [],
   "source": [
    "import pyspark\n",
    "conf = pyspark.SparkConf().setAppName('appName').setMaster('local')\n",
    "sc = pyspark.SparkContext(conf=conf)\n"
   ]
  },
  {
   "cell_type": "code",
   "execution_count": 2,
   "metadata": {},
   "outputs": [],
   "source": [
    "def load_vector(file: str):\n",
    "    textFile = sc.textFile(file)\n",
    "    def map_func(value):\n",
    "        i, v = value.split()\n",
    "\n",
    "        return int(i), float(v)\n",
    "        \n",
    "    return textFile.map(map_func)\n",
    "\n",
    "\n",
    "def load_matrix(file: str):\n",
    "    textFile = sc.textFile(file)\n",
    "\n",
    "    def map_func(value):\n",
    "        i, j, v = value.split()\n",
    "\n",
    "        return int(i), int(j), float(v)\n",
    "\n",
    "    return textFile.map(map_func)\n",
    "\n",
    "\n",
    "V = load_vector(\"data/V.txt\")\n",
    "W = load_vector(\"data/W.txt\")\n",
    "M = load_matrix(\"data/M.txt\")\n"
   ]
  },
  {
   "cell_type": "code",
   "execution_count": 3,
   "metadata": {},
   "outputs": [
    {
     "data": {
      "text/plain": [
       "([(1, 1.5), (2, 5.0), (4, 1.3), (7, 3.0)],\n",
       " [(1, -1.5), (2, 2.0), (3, 2.3), (4, 2.0), (6, 2.5)],\n",
       " [(1, 1, 3.2),\n",
       "  (1, 2, 2.4),\n",
       "  (1, 3, 7.0),\n",
       "  (1, 4, 2.0),\n",
       "  (2, 2, 7.1),\n",
       "  (2, 3, -1.0),\n",
       "  (3, 3, 1.0)])"
      ]
     },
     "execution_count": 3,
     "metadata": {},
     "output_type": "execute_result"
    }
   ],
   "source": [
    "(\n",
    "    V.collect(),\n",
    "    W.collect(),\n",
    "    M.collect()\n",
    ")"
   ]
  },
  {
   "cell_type": "code",
   "execution_count": 4,
   "metadata": {},
   "outputs": [],
   "source": [
    "from operator import add\n",
    "def map_func(value):\n",
    "    _, v = value\n",
    "    return v * v\n",
    "\n",
    "normV = V.map(map_func).reduce(add) ** 0.5\n"
   ]
  },
  {
   "cell_type": "code",
   "execution_count": 5,
   "metadata": {},
   "outputs": [
    {
     "data": {
      "text/plain": [
       "6.159545437773797"
      ]
     },
     "execution_count": 5,
     "metadata": {},
     "output_type": "execute_result"
    }
   ],
   "source": [
    "normV\n"
   ]
  },
  {
   "cell_type": "code",
   "execution_count": 6,
   "metadata": {},
   "outputs": [
    {
     "data": {
      "text/plain": [
       "[(2, 7.0), (4, 3.3), (6, 2.5), (1, 0.0), (7, 3.0), (3, 2.3)]"
      ]
     },
     "execution_count": 6,
     "metadata": {},
     "output_type": "execute_result"
    }
   ],
   "source": [
    "from operator import add\n",
    "sumU = V.union(W).reduceByKey(add)\n",
    "sumU.collect()"
   ]
  },
  {
   "cell_type": "code",
   "execution_count": 7,
   "metadata": {},
   "outputs": [
    {
     "data": {
      "text/plain": [
       "10.35"
      ]
     },
     "execution_count": 7,
     "metadata": {},
     "output_type": "execute_result"
    }
   ],
   "source": [
    "from operator import add\n",
    "\n",
    "\n",
    "def map_func(value):\n",
    "    _, (vi, wi) = value\n",
    "    return vi * wi\n",
    "\n",
    "V.join(W).map(map_func).reduce(add)"
   ]
  },
  {
   "cell_type": "code",
   "execution_count": 8,
   "metadata": {},
   "outputs": [],
   "source": [
    "from operator import add\n",
    "\n",
    "\n",
    "def map_func(value):\n",
    "    i, v = value\n",
    "    return i, v\n",
    "\n",
    "sumVM = V.map(map_func)\n",
    "\n",
    "def map_func(value):\n",
    "    i, _, v = value\n",
    "    return i, v\n",
    "\n",
    "sumVM = sumVM.join(M.map(map_func))\n",
    "\n",
    "def map_func(value):\n",
    "    i, (v, m) = value\n",
    "    return i, m * v\n",
    "\n",
    "\n",
    "sumVM = sumVM.map(map_func)\n",
    "sumVM = sumVM.reduceByKey(add)\n"
   ]
  },
  {
   "cell_type": "code",
   "execution_count": 9,
   "metadata": {},
   "outputs": [
    {
     "data": {
      "text/plain": [
       "[(2, 30.5), (1, 21.9)]"
      ]
     },
     "execution_count": 9,
     "metadata": {},
     "output_type": "execute_result"
    }
   ],
   "source": [
    "sumVM.collect()"
   ]
  },
  {
   "cell_type": "code",
   "execution_count": 10,
   "metadata": {},
   "outputs": [
    {
     "name": "stdout",
     "output_type": "stream",
     "text": [
      "For i = 0   l = 4.8853452820242484\n",
      "For i = 1   l = 8.991553062006156\n",
      "For i = 2   l = 12.449997511587105\n",
      "For i = 3   l = 14.125649301664835\n",
      "For i = 4   l = 14.513197069720489\n",
      "For i = 5   l = 14.584718544423222\n",
      "For i = 6   l = 14.59732844790886\n",
      "For i = 7   l = 14.599533522940424\n",
      "For i = 8   l = 14.59991856634586\n",
      "For i = 9   l = 14.599985784526964\n"
     ]
    }
   ],
   "source": [
    "from operator import add\n",
    "\n",
    "\n",
    "def norm(V) -> float:\n",
    "    def map_func(value):\n",
    "        _, v = value\n",
    "        return v * v\n",
    "\n",
    "    return V.map(map_func).reduce(add) ** 0.5\n",
    "\n",
    "def matrix_mult(M, V):\n",
    "    def map_func(value):\n",
    "        i, v = value\n",
    "        return i, v\n",
    "\n",
    "    sumVM = V.map(map_func)\n",
    "\n",
    "    def map_func(value):\n",
    "        i, _, v = value\n",
    "        return i, v\n",
    "\n",
    "    sumVM = sumVM.join(M.map(map_func))\n",
    "\n",
    "    def map_func(value):\n",
    "        i, (v, m) = value\n",
    "        return i, m * v\n",
    "\n",
    "\n",
    "    sumVM = sumVM.map(map_func)\n",
    "    return sumVM.reduceByKey(add)\n",
    "\n",
    "def dot_product(V, W):\n",
    "    def map_func(value):\n",
    "        _, (vi, wi) = value\n",
    "        return vi * wi\n",
    "\n",
    "    return V.join(W).map(map_func).reduce(add)\n",
    "\n",
    "Vi = V\n",
    "\n",
    "for i in range(10):\n",
    "    normV = norm(Vi)\n",
    "\n",
    "    def map_func(value):\n",
    "        i, v = value\n",
    "        return i, v / normV\n",
    "    \n",
    "    NVi = Vi.map(map_func)\n",
    "\n",
    "    Vi = matrix_mult(M, NVi)\n",
    "\n",
    "    l = dot_product(Vi, NVi)\n",
    "\n",
    "    print(\"For i =\", i,\"  l =\", l)\n",
    "    \n"
   ]
  }
 ],
 "metadata": {
  "interpreter": {
   "hash": "c6e04d67a82f8a38697c9513e9c30adb97e9b8d0bf04ad706600309f5137d24f"
  },
  "kernelspec": {
   "display_name": "Python 3.9.5 64-bit ('.venv': venv)",
   "name": "python3"
  },
  "language_info": {
   "codemirror_mode": {
    "name": "ipython",
    "version": 3
   },
   "file_extension": ".py",
   "mimetype": "text/x-python",
   "name": "python",
   "nbconvert_exporter": "python",
   "pygments_lexer": "ipython3",
   "version": "3.9.5"
  },
  "orig_nbformat": 4
 },
 "nbformat": 4,
 "nbformat_minor": 2
}
